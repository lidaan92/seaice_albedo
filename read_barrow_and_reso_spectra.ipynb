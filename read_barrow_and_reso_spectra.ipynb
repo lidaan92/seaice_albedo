{
 "cells": [
  {
   "cell_type": "code",
   "execution_count": 1,
   "metadata": {
    "collapsed": false
   },
   "outputs": [
    {
     "name": "stdout",
     "output_type": "stream",
     "text": [
      "Populating the interactive namespace from numpy and matplotlib\n"
     ]
    }
   ],
   "source": [
    "%pylab inline"
   ]
  },
  {
   "cell_type": "code",
   "execution_count": 6,
   "metadata": {
    "collapsed": true
   },
   "outputs": [],
   "source": [
    "import spectral.io.envi as envi\n",
    "import os, sys, glob\n",
    "import matplotlib.pyplot as plt"
   ]
  },
  {
   "cell_type": "markdown",
   "metadata": {},
   "source": [
    "Get list of spectra for Barrow and Resolute campaigns"
   ]
  },
  {
   "cell_type": "code",
   "execution_count": 28,
   "metadata": {
    "collapsed": false
   },
   "outputs": [
    {
     "name": "stdout",
     "output_type": "stream",
     "text": [
      "0 C:/Users/apbarret/Documents/data/Spectra\\Barrow\\archive\\bar_02042002_snow_spec.hdr\n",
      "1 C:/Users/apbarret/Documents/data/Spectra\\Barrow\\archive\\bar_13062004_melt_spec.hdr\n",
      "2 C:/Users/apbarret/Documents/data/Spectra\\Barrow\\archive\\bar_15062004_bare_spec.hdr\n",
      "3 C:/Users/apbarret/Documents/data/Spectra\\Barrow\\archive\\bar_15062004_lead_spec.hdr\n",
      "4 C:/Users/apbarret/Documents/data/Spectra\\Barrow\\archive\\bar_15062004_pond1_spec.hdr\n",
      "5 C:/Users/apbarret/Documents/data/Spectra\\Barrow\\archive\\bar_15062004_pond2_spec.hdr\n",
      "6 C:/Users/apbarret/Documents/data/Spectra\\Resolute\\archive\\res_08061991_pond_spec.hdr\n",
      "7 C:/Users/apbarret/Documents/data/Spectra\\Resolute\\archive\\res_19051991_glaz_spec.hdr\n",
      "8 C:/Users/apbarret/Documents/data/Spectra\\Resolute\\archive\\res_27051991_bare_spec.hdr\n",
      "9 C:/Users/apbarret/Documents/data/Spectra\\Resolute\\archive\\res_27051991_snow_spec.hdr\n",
      "10 C:/Users/apbarret/Documents/data/Spectra\\Resolute\\archive\\res_28051991_blue_spec.hdr\n"
     ]
    }
   ],
   "source": [
    "diri = \"C:/Users/apbarret/Documents/data/Spectra/*/archive\"\n",
    "fileList = glob.glob(diri+\"/\"+\"*_spec.hdr\")\n",
    "k = 0\n",
    "for fn in fileList:\n",
    "    print k, fn\n",
    "    k += 1"
   ]
  },
  {
   "cell_type": "markdown",
   "metadata": {},
   "source": [
    "Read the spectra"
   ]
  },
  {
   "cell_type": "code",
   "execution_count": 49,
   "metadata": {
    "collapsed": false
   },
   "outputs": [
    {
     "data": {
      "text/plain": [
       "(200.0, 1400.0)"
      ]
     },
     "execution_count": 49,
     "metadata": {},
     "output_type": "execute_result"
    },
    {
     "data": {
      "image/png": "[encoded data removed]",
      "text/plain": [
       "<matplotlib.figure.Figure at 0xd0b4e80>"
      ]
     },
     "metadata": {},
     "output_type": "display_data"
    }
   ],
   "source": [
    "spectra = envi.open(fileList[0])\n",
    "plt.plot(spectra.bands.centers, spectra.spectra.reshape(-1))\n",
    "plt.ylim([0.,1.2])\n",
    "plt.xlim([200.,1400.])"
   ]
  },
  {
   "cell_type": "code",
   "execution_count": null,
   "metadata": {
    "collapsed": true
   },
   "outputs": [],
   "source": []
  }
 ],
 "metadata": {
  "kernelspec": {
   "display_name": "Python 2",
   "language": "python",
   "name": "python2"
  },
  "language_info": {
   "codemirror_mode": {
    "name": "ipython",
    "version": 2
   },
   "file_extension": ".py",
   "mimetype": "text/x-python",
   "name": "python",
   "nbconvert_exporter": "python",
   "pygments_lexer": "ipython2",
   "version": "2.7.11"
  }
 },
 "nbformat": 4,
 "nbformat_minor": 0
}
