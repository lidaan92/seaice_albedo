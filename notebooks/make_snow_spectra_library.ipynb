{
 "cells": [
  {
   "cell_type": "code",
   "execution_count": 7,
   "metadata": {
    "collapsed": false
   },
   "outputs": [
    {
     "name": "stdout",
     "output_type": "stream",
     "text": [
      "Populating the interactive namespace from numpy and matplotlib\n"
     ]
    }
   ],
   "source": [
    "%pylab inline"
   ]
  },
  {
   "cell_type": "markdown",
   "metadata": {},
   "source": [
    "The following code creates an Envi spectral library for snow from spectra collected from near Barrow and Resolute.  This data is already stored in Envi spectral files.  The code takes this data and puts it in a single file.  The steps are as follows:\n",
    "\n",
    "1) Spectra are interpolated to a common set of wavelengths using a linear interpolation.\n",
    "2) Spectra are truncated to the 300 to 1000 nm region.  This is to keep them consistent with ice, pond and lead spectral libraries.  One file extends to 1500 nm so this could be included in the future.\n",
    "3) Spectra are smoothed using an 11-point moving average filter\n",
    "4) Spectra and metadata are written to Envi .sli and .hdr files"
   ]
  },
  {
   "cell_type": "code",
   "execution_count": 8,
   "metadata": {
    "collapsed": true
   },
   "outputs": [],
   "source": [
    "import sys\n",
    "import os\n",
    "sys.path.append(os.path.join(sys.path[0],'..','source'))"
   ]
  },
  {
   "cell_type": "code",
   "execution_count": 9,
   "metadata": {
    "collapsed": true
   },
   "outputs": [],
   "source": [
    "import spectral.io.envi as envi\n",
    "import glob\n",
    "import matplotlib.pyplot as plt"
   ]
  },
  {
   "cell_type": "markdown",
   "metadata": {},
   "source": [
    "## Utility functions"
   ]
  },
  {
   "cell_type": "code",
   "execution_count": 10,
   "metadata": {
    "collapsed": false
   },
   "outputs": [],
   "source": [
    "def get_barres_files():\n",
    "    \"\"\"\n",
    "    Get a list of files for Barrow and Resolute\n",
    "    \"\"\"\n",
    "    import os\n",
    "    diri = r\"C:/Users/apbarret/Documents/data/Spectra/*/archive\"\n",
    "    return glob.glob(os.path.join(diri,'*_spec.hdr'))\n",
    "    "
   ]
  },
  {
   "cell_type": "code",
   "execution_count": 11,
   "metadata": {
    "collapsed": true
   },
   "outputs": [],
   "source": [
    "def moving_average(x, window_len):\n",
    "    \"\"\"\n",
    "    A simple moving average routine that smooths full range of data\n",
    "    \"\"\"\n",
    "    import numpy as np\n",
    "    \n",
    "    s=np.r_[x[window_len-1:0:-1],x,x[-1:-window_len:-1]]\n",
    "    w = np.ones(window_len,'d')\n",
    "    y=np.convolve(w/w.sum(),s,mode='valid')\n",
    "    return y[(window_len-1)*0.5:(-1)*(window_len-1)*0.5]"
   ]
  },
  {
   "cell_type": "code",
   "execution_count": 12,
   "metadata": {
    "collapsed": true
   },
   "outputs": [],
   "source": [
    "def plot_from_file(fn, ax, color='k', lw=2):\n",
    "    \"\"\"\n",
    "    Utility routine to plot a single spectra from file\n",
    "    \"\"\"\n",
    "    \n",
    "    import spectral.io.envi as envi\n",
    "    import matplotlib.pyplot as plt\n",
    "    \n",
    "    spectra = envi.open(fn)\n",
    "    \n",
    "    ax.plot(spectra.bands.centers, moving_average(spectra.spectra.reshape(-1),11), \n",
    "            lw=lw, color=color)\n",
    "    "
   ]
  },
  {
   "cell_type": "code",
   "execution_count": 13,
   "metadata": {
    "collapsed": false
   },
   "outputs": [],
   "source": [
    "def parse_filename(fn):\n",
    "    \"\"\"\n",
    "    Extracts location, date and surface type from filename\n",
    "    \"\"\"\n",
    "    import re\n",
    "    import datetime as dt\n",
    "    \n",
    "    stype_lookup = {'snow': 'snow', 'melt': 'melting ice', 'bare': 'ice', \n",
    "                    'glaz': 'glazed snow', 'pond': 'pond', \n",
    "                    'pond1': 'pond', 'pond2': 'pond', 'lead': 'lead',\n",
    "                    'blue': 'blue ice'}\n",
    "    metadata = {}\n",
    "    \n",
    "    tmp = fn.split('\\\\')\n",
    "    metadata['site'] = tmp[1]\n",
    "    \n",
    "    _, datestr, surface, __ = tuple(tmp[-1].split('_'))\n",
    "    \n",
    "    metadata['date'] = dt.datetime.strptime(datestr, '%d%m%Y')\n",
    "    metadata['surface_type'] = stype_lookup[surface]\n",
    "    \n",
    "    return metadata"
   ]
  },
  {
   "cell_type": "markdown",
   "metadata": {},
   "source": [
    "## Get a list of spectra files from Barrow and Resolute that contain snow spectra"
   ]
  },
  {
   "cell_type": "code",
   "execution_count": 14,
   "metadata": {
    "collapsed": false,
    "scrolled": true
   },
   "outputs": [],
   "source": [
    "fileList = [fn for fn in get_barres_files() if (parse_filename(fn)['surface_type'] == 'snow') |\n",
    "                                               (parse_filename(fn)['surface_type'] == 'glazed snow')]\n"
   ]
  },
  {
   "cell_type": "markdown",
   "metadata": {},
   "source": [
    "## Use wavelengths from Ice spectral library "
   ]
  },
  {
   "cell_type": "code",
   "execution_count": 15,
   "metadata": {
    "collapsed": false
   },
   "outputs": [],
   "source": [
    "from constants import ICE_LIBRARY_PATH\n",
    "\n",
    "# Ice\n",
    "ice = envi.open(ICE_LIBRARY_PATH)\n"
   ]
  },
  {
   "cell_type": "markdown",
   "metadata": {},
   "source": [
    "## Process spectra"
   ]
  },
  {
   "cell_type": "code",
   "execution_count": 16,
   "metadata": {
    "collapsed": false
   },
   "outputs": [
    {
     "name": "stderr",
     "output_type": "stream",
     "text": [
      "C:\\Users\\apbarret\\Anaconda2\\lib\\site-packages\\ipykernel\\__main__.py:10: VisibleDeprecationWarning: using a non-integer number instead of an integer will result in an error in the future\n"
     ]
    },
    {
     "data": {
      "image/png": "[encoded data removed]",
      "text/plain": [
       "<matplotlib.figure.Figure at 0x7888ba8>"
      ]
     },
     "metadata": {},
     "output_type": "display_data"
    }
   ],
   "source": [
    "from scipy.interpolate import interp1d\n",
    "\n",
    "fig, ax = plt.subplots(figsize=(20,7))\n",
    "\n",
    "spectra_nd = np.empty((len(ice.bands.centers),len(fileList)))\n",
    "\n",
    "target = []\n",
    "date = []\n",
    "location = []\n",
    "name = []\n",
    "\n",
    "for k, fn in enumerate(fileList):\n",
    "    \n",
    "    # Read spectra\n",
    "    spectra = envi.open(fn)\n",
    "\n",
    "    # Extract metadata and store in lists for later use\n",
    "    metadata = parse_filename(fn)\n",
    "    target.append(metadata['surface_type'])\n",
    "    date.append(metadata['date'].strftime('%Y%m%d'))\n",
    "    location.append(metadata['site'])\n",
    "    name.append('SNOW [{:s}] {:s}'.format(metadata['surface_type'], metadata['date'].strftime('%Y%m%d')))\n",
    "    \n",
    "    # Define linear interpolation function\n",
    "    f = interp1d(spectra.bands.centers, spectra.spectra.reshape(-1), \n",
    "                 bounds_error=False, fill_value='extrapolate')\n",
    "\n",
    "    # Plot data for checking\n",
    "    ax.plot(spectra.bands.centers, spectra.spectra.reshape(-1), '+')\n",
    "    ax.plot(ice.bands.centers, moving_average( f(ice.bands.centers), 11 ), '-')\n",
    "\n",
    "    # Save interpolated and smoothed spectra to numpy array\n",
    "    spectra_nd[:,k] = moving_average( f(ice.bands.centers), 11 )\n",
    "    "
   ]
  },
  {
   "cell_type": "markdown",
   "metadata": {},
   "source": [
    "## Write to spectral library file"
   ]
  },
  {
   "cell_type": "code",
   "execution_count": null,
   "metadata": {
    "collapsed": false
   },
   "outputs": [],
   "source": [
    "from spectral.io.envi import SpectralLibrary, gen_params\n",
    "from shebaspectral import generate_library_header\n",
    "\n",
    "header = generate_library_header(spectra_nd, ice.bands.centers, target=target, date=date, \n",
    "                                 location=location, name=name)\n",
    "params = gen_params(header)\n",
    "\n",
    "from spectral.io.envi import SpectralLibrary\n",
    "specLib = SpectralLibrary(spectra_nd, header, params)\n",
    "\n",
    "SNOW_LIBRARY_PATH = '..\\data\\Sheba.SpectralLibrary.snow.filled'\n",
    "specLib.save(SNOW_LIBRARY_PATH)\n"
   ]
  },
  {
   "cell_type": "code",
   "execution_count": null,
   "metadata": {
    "collapsed": true
   },
   "outputs": [],
   "source": []
  }
 ],
 "metadata": {
  "kernelspec": {
   "display_name": "Python 2",
   "language": "python",
   "name": "python2"
  },
  "language_info": {
   "codemirror_mode": {
    "name": "ipython",
    "version": 2
   },
   "file_extension": ".py",
   "mimetype": "text/x-python",
   "name": "python",
   "nbconvert_exporter": "python",
   "pygments_lexer": "ipython2",
   "version": "2.7.13"
  }
 },
 "nbformat": 4,
 "nbformat_minor": 0
}
