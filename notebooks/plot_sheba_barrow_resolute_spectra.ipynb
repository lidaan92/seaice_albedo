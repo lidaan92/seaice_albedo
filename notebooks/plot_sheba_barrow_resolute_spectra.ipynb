{
 "cells": [
  {
   "cell_type": "code",
   "execution_count": null,
   "metadata": {
    "collapsed": false
   },
   "outputs": [],
   "source": [
    "%pylab inline"
   ]
  },
  {
   "cell_type": "markdown",
   "metadata": {},
   "source": [
    "This snippet of code adds the source code to the PYTHONPATH.  It assumes that the notebook and source directories are under the same parent directory.  If the directory structure has been changed then os.path.join(sys.path[0],'..','source') will need to be replaced with the new path to source.  This isn't a very clean solution but it is the only one I can find that will work."
   ]
  },
  {
   "cell_type": "code",
   "execution_count": null,
   "metadata": {
    "collapsed": true
   },
   "outputs": [],
   "source": [
    "import sys\n",
    "import os\n",
    "sys.path.append(os.path.join(sys.path[0],'..','source'))"
   ]
  },
  {
   "cell_type": "code",
   "execution_count": null,
   "metadata": {
    "collapsed": true
   },
   "outputs": [],
   "source": [
    "def get_barres_files():\n",
    "    \n",
    "    import os, glob\n",
    "    diri = r\"C:/Users/apbarret/Documents/data/Spectra/*/archive\"\n",
    "    return glob.glob(os.path.join(diri,'*_spec.hdr'))\n",
    "    \n",
    "def plot_from_file(fn, ax, color='k', lw=2):\n",
    "    \n",
    "    import spectral.io.envi as envi\n",
    "    import matplotlib.pyplot as plt\n",
    "    \n",
    "    spectra = envi.open(fn)\n",
    "    \n",
    "    ax.plot(spectra.bands.centers, moving_average(spectra.spectra.reshape(-1),11), \n",
    "            lw=lw, color=color)\n",
    "    \n",
    "def moving_average(x, window_len):\n",
    "    import numpy as np\n",
    "    \n",
    "    s=np.r_[x[window_len-1:0:-1],x,x[-1:-window_len:-1]]\n",
    "    w = np.ones(window_len,'d')\n",
    "    y=np.convolve(w/w.sum(),s,mode='valid')\n",
    "    return y[(window_len-1)*0.5:(-1)*(window_len-1)*0.5]"
   ]
  },
  {
   "cell_type": "markdown",
   "metadata": {},
   "source": [
    "## Read spectral libraries"
   ]
  },
  {
   "cell_type": "code",
   "execution_count": null,
   "metadata": {
    "collapsed": false
   },
   "outputs": [],
   "source": [
    "from spectral.io import envi\n",
    "from constants import ICE_LIBRARY_PATH, POND_LIBRARY_PATH, OWTR_LIBRARY_PATH\n",
    "\n",
    "# Ice\n",
    "ice = envi.open(ICE_LIBRARY_PATH)\n",
    "# Ponds\n",
    "pond = envi.open(POND_LIBRARY_PATH)\n",
    "# Leads\n",
    "lead = envi.open(OWTR_LIBRARY_PATH)\n",
    "\n",
    "# Get list of Barrow and resolute files\n",
    "fList = get_barres_files()"
   ]
  },
  {
   "cell_type": "markdown",
   "metadata": {},
   "source": [
    "## Get indices for dark, light and ponds with ice"
   ]
  },
  {
   "cell_type": "code",
   "execution_count": null,
   "metadata": {
    "collapsed": false
   },
   "outputs": [],
   "source": [
    "import re\n",
    "import numpy as np\n",
    "isdark = re.compile('dark', re.IGNORECASE)\n",
    "dark_idx = np.array([i for i, tgt in enumerate(pond.names) if isdark.search(tgt)])\n",
    "\n",
    "islight = re.compile('light', re.IGNORECASE)\n",
    "light_idx = np.array([i for i, tgt in enumerate(pond.names) if islight.search(tgt)])\n",
    "\n",
    "isice = re.compile('brash|frazil', re.IGNORECASE)\n",
    "ice_idx = np.array([i for i, tgt in enumerate(pond.names) if isice.search(tgt)])\n",
    "\n",
    "isother = re.compile('^dark|^light|^brash|^frazil', re.IGNORECASE)\n",
    "other_idx = np.array([i for i, tgt in enumerate(pond.names) if isother.search(tgt)])\n"
   ]
  },
  {
   "cell_type": "code",
   "execution_count": null,
   "metadata": {
    "collapsed": false
   },
   "outputs": [],
   "source": [
    "lead.bands.centers.__sizeof__()"
   ]
  },
  {
   "cell_type": "code",
   "execution_count": null,
   "metadata": {
    "collapsed": false
   },
   "outputs": [],
   "source": [
    "import matplotlib.pyplot as plt\n",
    "import matplotlib.lines as mlines\n",
    "from shebaspectral import add_modis_bands\n",
    "\n",
    "xmin = 300.\n",
    "xmax = 1400.\n",
    "\n",
    "f, ax = plt.subplots(1,3, figsize=(15,7))\n",
    "\n",
    "ax[0].plot(ice.bands.centers, ice.spectra.T, 'k', lw=2)\n",
    "# Barrow and Resolute spectra:\n",
    "# Snow\n",
    "plot_from_file(fList[0], ax[0], color='red')\n",
    "plot_from_file(fList[7], ax[0], color='orange') # Glazed snow\n",
    "plot_from_file(fList[9], ax[0], color='red')\n",
    "# Ice\n",
    "plot_from_file(fList[1], ax[0], color='cyan') # Melting ice\n",
    "plot_from_file(fList[10], ax[0], color='blue') # Blue ice\n",
    "plot_from_file(fList[2], ax[0], color='k')\n",
    "plot_from_file(fList[8], ax[0], color='k')\n",
    "\n",
    "ax[0].set_xlim(xmin,xmax)\n",
    "ax[0].set_ylim(0.,1.)\n",
    "ax[0].set_title(\"Ice and Snow\", fontsize=20)\n",
    "ax[0].set_ylabel(\"Spectral Reflectance\", fontsize=18)\n",
    "ax[0].set_xlabel(\"Wavelength [nm]\", fontsize=18)\n",
    "add_modis_bands(ax=ax[0])\n",
    "\n",
    "# Set up legend for pond plot\n",
    "snow_line = mlines.Line2D([], [], color='red', lw=2,\n",
    "                          label='Snow')\n",
    "glazedSnow_line = mlines.Line2D([], [], color='orange', lw=2,\n",
    "                          label='Glazed Snow')\n",
    "ice_line = mlines.Line2D([], [], color='k', lw=2,\n",
    "                          label='White Ice')\n",
    "meltingIce_line = mlines.Line2D([], [], color='cyan', lw=2,\n",
    "                          label='Melting Ice')\n",
    "blueIce_line = mlines.Line2D([], [], color='blue', lw=2,\n",
    "                          label='Blue Ice')\n",
    "ax[0].legend(handles=[snow_line, glazedSnow_line, ice_line, meltingIce_line, blueIce_line], loc=3)\n",
    "\n",
    "ax[1].plot(pond.bands.centers, pond.spectra[dark_idx,:].T, 'k', lw=2, label=\"Dark\")\n",
    "ax[1].plot(pond.bands.centers, pond.spectra[light_idx,:].T, 'r', lw=2, label=\"light\")\n",
    "ax[1].plot(pond.bands.centers, pond.spectra[ice_idx,:].T, 'b', lw=2, label=\"ice\")\n",
    "# Add pond spectra from barrow and resolute\n",
    "plot_from_file(fList[4], ax[1], color='k')\n",
    "plot_from_file(fList[5], ax[1], color='k')\n",
    "plot_from_file(fList[6], ax[1], color='k')\n",
    "\n",
    "ax[1].set_xlim(xmin,xmax)\n",
    "ax[1].set_ylim(0.,1.)\n",
    "ax[1].set_title(\"Melt Pond\", fontsize=20)\n",
    "add_modis_bands(ax=ax[1])\n",
    "ax[1].set_xlabel(\"Wavelength [nm]\", fontsize=18)\n",
    "\n",
    "# Set up legend for pond plot\n",
    "darkpond_line = mlines.Line2D([], [], color='k', lw=2,\n",
    "                          label='Dark Ponds')\n",
    "lightpond_line = mlines.Line2D([], [], color='r', lw=2,\n",
    "                          label='Light Ponds')\n",
    "icepond_line = mlines.Line2D([], [], color='b', lw=2,\n",
    "                          label='Ponds with ice')\n",
    "ax[1].legend(handles=[darkpond_line, lightpond_line, icepond_line])\n",
    "\n",
    "ax[2].plot(lead.bands.centers, lead.spectra[0,:].T, 'k', lw=2, label='Open Lead')\n",
    "ax[2].plot(lead.bands.centers, lead.spectra[1:,:].T, 'b', lw=2, label='Leads with ice')\n",
    "# Add pond spectra from barrow and resolute\n",
    "plot_from_file(fList[3], ax[2], color='k')\n",
    "\n",
    "ax[2].set_xlim(xmin,xmax)\n",
    "ax[2].set_ylim(0.,1.)\n",
    "ax[2].set_title(\"Lead\", fontsize=20)\n",
    "add_modis_bands(ax=ax[2])\n",
    "ax[2].set_xlabel(\"Wavelength [nm]\", fontsize=18)\n",
    "\n",
    "openlead_line = mlines.Line2D([], [], color='k', lw=2,\n",
    "                          label='Open Lead')\n",
    "icelead_line = mlines.Line2D([], [], color='b', lw=2,\n",
    "                          label='Leads with ice')\n",
    "ax[2].legend(handles=[openlead_line,icelead_line])\n",
    "\n",
    "plotdiri = r\"C:/Users/apbarret/Documents/data/Spectra\"\n",
    "plotfile = 'sheba_barrow_resolute_spectra.png'\n",
    "f.savefig(os.path.join(plotdiri,plotfile))"
   ]
  },
  {
   "cell_type": "code",
   "execution_count": null,
   "metadata": {
    "collapsed": true
   },
   "outputs": [],
   "source": []
  }
 ],
 "metadata": {
  "kernelspec": {
   "display_name": "Python 2",
   "language": "python",
   "name": "python2"
  },
  "language_info": {
   "codemirror_mode": {
    "name": "ipython",
    "version": 2
   },
   "file_extension": ".py",
   "mimetype": "text/x-python",
   "name": "python",
   "nbconvert_exporter": "python",
   "pygments_lexer": "ipython2",
   "version": "2.7.13"
  }
 },
 "nbformat": 4,
 "nbformat_minor": 0
}
