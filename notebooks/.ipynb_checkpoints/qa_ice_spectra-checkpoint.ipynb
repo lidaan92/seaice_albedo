{
 "cells": [
  {
   "cell_type": "code",
   "execution_count": 1,
   "metadata": {
    "collapsed": false
   },
   "outputs": [
    {
     "name": "stdout",
     "output_type": "stream",
     "text": [
      "Populating the interactive namespace from numpy and matplotlib\n"
     ]
    }
   ],
   "source": [
    "%pylab inline"
   ]
  },
  {
   "cell_type": "markdown",
   "metadata": {},
   "source": [
    "# Read spectral library"
   ]
  },
  {
   "cell_type": "code",
   "execution_count": 3,
   "metadata": {
    "collapsed": true
   },
   "outputs": [],
   "source": [
    "from spectral.io import envi\n",
    "fili = r\"C:/Users/apbarret/Documents/data/Sheba2/Sheba.SpectralLibrary.ice.hdr\"\n",
    "ice = envi.open(fili)\n",
    "nspectra = len(ice.names)"
   ]
  },
  {
   "cell_type": "markdown",
   "metadata": {},
   "source": [
    "# Remove bad or spurious data"
   ]
  },
  {
   "cell_type": "markdown",
   "metadata": {},
   "source": [
    "Many of the spectra are noisy beyond 1000 nanometers.  This likely results from insufficient averaging time during data collection: there is little energy in IR wavelength so measured photons will be noisy.  There are some other aspects of bad data - often in the first two wavebands.  \n",
    "\n",
    "Spectra beyond 1000 nanometers are masked.  Suspect data at short wavelengths are also masked."
   ]
  },
  {
   "cell_type": "code",
   "execution_count": 4,
   "metadata": {
    "collapsed": true
   },
   "outputs": [],
   "source": [
    "def qa_spectra(spectralLib):\n",
    "    \n",
    "    # Convert spectra to a masked array\n",
    "    spectra_ma = np.ma.array(spectralLib.spectra)\n",
    "    \n",
    "    # If wavelength is not already a numpy array make it one\n",
    "    wavelength = np.array(spectralLib.bands.centers)\n",
    "    \n",
    "    # Create mask for wavelength greater than 1000 nm\n",
    "    mask = np.empty(spectra_ma.shape, dtype=bool)\n",
    "    mask[:,:] = (wavelength > 1000.)[np.newaxis,:]\n",
    "    \n",
    "    # Apply mask\n",
    "    spectra_ma = ma.masked_array(spectra_ma, mask=mask, fill_value=np.nan)\n",
    "    \n",
    "    # Mask spectral albedos greater than 0.99\n",
    "    spectra_ma = ma.masked_array(spectra_ma, mask=(spectra_ma > 0.99))\n",
    "    \n",
    "    # For ice spectra there are cases where albedos for the first two wavebands are\n",
    "    # too high to be believable.  I get rid of these by masking the first two wavebands of any\n",
    "    # spectra where the first albedo is greater than the third waveband by 0.5\n",
    "    mask = np.empty(spectra_ma.shape, dtype=bool)\n",
    "    mask[:,:] = False\n",
    "    tmp = (spectra_ma[:,0]-spectra_ma[:,2] > 0.05).filled(fill_value=False)\n",
    "    mask[:,0] = tmp\n",
    "    mask[:,1] = tmp\n",
    "\n",
    "    # Apply this mask\n",
    "    spectra_ma = ma.masked_array(spectra_ma, mask=mask)\n",
    "    \n",
    "    return spectra_ma"
   ]
  },
  {
   "cell_type": "markdown",
   "metadata": {},
   "source": [
    "Do QC on spectra using wavelength and range based approaches"
   ]
  },
  {
   "cell_type": "code",
   "execution_count": 5,
   "metadata": {
    "collapsed": true
   },
   "outputs": [],
   "source": [
    "icema = qa_spectra(ice)"
   ]
  },
  {
   "cell_type": "markdown",
   "metadata": {},
   "source": [
    "# Clip to the 300 to 1000 nm band"
   ]
  },
  {
   "cell_type": "markdown",
   "metadata": {},
   "source": [
    "We ignore spectra beyond 1000 nm as these are too noisy in the SHEBA data.  This is done before smoothing to avoid smoothing over missing values beyond 1000 nm"
   ]
  },
  {
   "cell_type": "code",
   "execution_count": 6,
   "metadata": {
    "collapsed": true
   },
   "outputs": [],
   "source": [
    "wavelength = np.array(ice.bands.centers)\n",
    "new_wavelength = wavelength[wavelength < 1000.]\n",
    "new_icema = icema[:,wavelength < 1000.]"
   ]
  },
  {
   "cell_type": "markdown",
   "metadata": {},
   "source": [
    "# Smooth the spectra"
   ]
  },
  {
   "cell_type": "markdown",
   "metadata": {},
   "source": [
    "I use a simple moving average"
   ]
  },
  {
   "cell_type": "code",
   "execution_count": 7,
   "metadata": {
    "collapsed": true
   },
   "outputs": [],
   "source": [
    "def moving_average(x, window_len):\n",
    "    s=np.r_[x[window_len-1:0:-1],x,x[-1:-window_len:-1]]\n",
    "    w = numpy.ones(window_len,'d')\n",
    "    y=numpy.convolve(w/w.sum(),s,mode='valid')\n",
    "    return y[(window_len-1)*0.5:(-1)*(window_len-1)*0.5]"
   ]
  },
  {
   "cell_type": "code",
   "execution_count": 8,
   "metadata": {
    "collapsed": false
   },
   "outputs": [
    {
     "name": "stderr",
     "output_type": "stream",
     "text": [
      "C:\\Users\\apbarret\\Anaconda\\lib\\site-packages\\IPython\\kernel\\__main__.py:5: VisibleDeprecationWarning: using a non-integer number instead of an integer will result in an error in the future\n"
     ]
    }
   ],
   "source": [
    "icema_smooth = np.empty(new_icema.shape,dtype=new_icema.dtype)\n",
    "for ispct in np.arange(0,new_icema.shape[0]):\n",
    "    icema_smooth[ispct,:] = moving_average(new_icema[ispct,:].filled(), 11)"
   ]
  },
  {
   "cell_type": "markdown",
   "metadata": {},
   "source": [
    "# Fill missing values"
   ]
  },
  {
   "cell_type": "markdown",
   "metadata": {},
   "source": [
    "If there are missing values in an array, fill then using a linear interpolation.  I use linear interp because missing values are often at begining or end of arrays so linear will extrapolate."
   ]
  },
  {
   "cell_type": "code",
   "execution_count": 9,
   "metadata": {
    "collapsed": false
   },
   "outputs": [],
   "source": [
    "import scipy.interpolate as interp\n",
    "icema_filled = np.empty(icema_smooth.shape, dtype=icema_smooth.dtype)\n",
    "for ispct in np.arange(0,icema_smooth.shape[0]):\n",
    "    x = new_wavelength\n",
    "    if np.isnan(icema_smooth[ispct,:]).any():\n",
    "        y = icema_smooth[ispct,:]\n",
    "        f = interp.interp1d(x[np.isfinite(y)],y[np.isfinite(y)],kind='linear',\n",
    "                    bounds_error=False,fill_value='extrapolate')\n",
    "        icema_filled[ispct,:] = f(x)\n",
    "    else:\n",
    "        icema_filled[ispct,:] = icema_smooth[ispct,:]"
   ]
  },
  {
   "cell_type": "markdown",
   "metadata": {},
   "source": [
    "# Plot to check"
   ]
  },
  {
   "cell_type": "code",
   "execution_count": 10,
   "metadata": {
    "collapsed": false,
    "scrolled": true
   },
   "outputs": [
    {
     "data": {
      "image/png": "[encoded data removed]",
      "text/plain": [
       "<matplotlib.figure.Figure at 0x6c01a58>"
      ]
     },
     "metadata": {},
     "output_type": "display_data"
    }
   ],
   "source": [
    "import matplotlib.pyplot as plt\n",
    "plt.plot(new_wavelength,icema_filled[0,:],'-b')\n",
    "plt.xlim([350.,1010.])\n",
    "plt.ylim([0.,1.3])\n",
    "for ii in range(1,nspectra):\n",
    "    plt.plot(new_wavelength,icema_filled[ii,:].reshape(-1))"
   ]
  },
  {
   "cell_type": "markdown",
   "metadata": {},
   "source": [
    "# Write to spectral library file"
   ]
  },
  {
   "cell_type": "code",
   "execution_count": 11,
   "metadata": {
    "collapsed": false
   },
   "outputs": [],
   "source": [
    "from spectral.io.envi import SpectralLibrary, gen_params\n",
    "from shebaspectral import generate_library_header\n",
    "\n",
    "header = generate_library_header(icema_filled, new_wavelength, None, None, ice.names)\n",
    "params = gen_params(header)\n",
    "\n",
    "from spectral.io.envi import SpectralLibrary\n",
    "specLib = SpectralLibrary(icema_filled, header, params)\n",
    "\n",
    "filo = \"C:/Users/apbarret/Documents/data/Sheba2/Sheba.SpectralLibrary.ice.filled\"\n",
    "specLib.save(filo)"
   ]
  }
 ],
 "metadata": {
  "kernelspec": {
   "display_name": "Python 2",
   "language": "python",
   "name": "python2"
  },
  "language_info": {
   "codemirror_mode": {
    "name": "ipython",
    "version": 2
   },
   "file_extension": ".py",
   "mimetype": "text/x-python",
   "name": "python",
   "nbconvert_exporter": "python",
   "pygments_lexer": "ipython2",
   "version": "2.7.11"
  }
 },
 "nbformat": 4,
 "nbformat_minor": 0
}
