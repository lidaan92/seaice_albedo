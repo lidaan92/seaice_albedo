{
 "cells": [
  {
   "cell_type": "code",
   "execution_count": 3,
   "metadata": {
    "collapsed": false
   },
   "outputs": [
    {
     "name": "stdout",
     "output_type": "stream",
     "text": [
      "Populating the interactive namespace from numpy and matplotlib\n"
     ]
    }
   ],
   "source": [
    "%pylab inline"
   ]
  },
  {
   "cell_type": "code",
   "execution_count": 2,
   "metadata": {
    "collapsed": false
   },
   "outputs": [],
   "source": [
    "from shebaspectral import read_shebaspectral_csv"
   ]
  },
  {
   "cell_type": "code",
   "execution_count": 39,
   "metadata": {
    "collapsed": false
   },
   "outputs": [
    {
     "name": "stdout",
     "output_type": "stream",
     "text": [
      "<type 'list'>\n",
      "<type 'list'>\n",
      "<type 'numpy.ndarray'>\n"
     ]
    }
   ],
   "source": [
    "fili = \"C:/Users/apbarret/Documents/data/Sheba2/ShebaSpectral.csv\"\n",
    "date, target, wavelength, spectra = read_shebaspectral_csv(fili)\n",
    "print type(target)\n",
    "print type(date)\n",
    "print type(wavelength)"
   ]
  },
  {
   "cell_type": "markdown",
   "metadata": {},
   "source": [
    "Get indices for ponds, ice and leads.  Also put other targets into miscelaneous bin"
   ]
  },
  {
   "cell_type": "code",
   "execution_count": 59,
   "metadata": {
    "collapsed": false
   },
   "outputs": [],
   "source": [
    "import re\n",
    "ispnd = re.compile('pond|mp', re.IGNORECASE)\n",
    "isice = re.compile('white ice', re.IGNORECASE)\n",
    "isled = re.compile('lead', re.IGNORECASE)\n",
    "\n",
    "idxpnd = []\n",
    "idxice = []\n",
    "idxled = []\n",
    "idxmis = []\n",
    "\n",
    "for i, tgt in list(enumerate(target)):\n",
    "    if ispnd.search(tgt):\n",
    "        idxpnd.append(i)\n",
    "    else:\n",
    "        if isice.search(tgt):\n",
    "            idxice.append(i)\n",
    "        else:\n",
    "            if isled.search(tgt):\n",
    "                idxled.append(i)\n",
    "            else:\n",
    "                idxmis.append(i)\n",
    "                \n",
    "#for ii in idxmis:\n",
    "#    print target[ii]"
   ]
  },
  {
   "cell_type": "markdown",
   "metadata": {},
   "source": [
    "Generate new name using target designation: pond, ice, lead, misc; original name and date  "
   ]
  },
  {
   "cell_type": "code",
   "execution_count": 66,
   "metadata": {
    "collapsed": false
   },
   "outputs": [],
   "source": [
    "spectra_name = []\n",
    "for tgt, dt in zip(target,date):\n",
    "    if ispnd.search(tgt):\n",
    "        spectra_name.append('POND [%s] %s' % (tgt, dt.strftime('%Y%m%d')))\n",
    "    else:\n",
    "        if isice.search(tgt):\n",
    "            spectra_name.append('ICE [%s] %s' % (tgt, dt.strftime('%Y%m%d')))\n",
    "        else:\n",
    "            if isled.search(tgt):\n",
    "                spectra_name.append('LEAD [%s] %s' % (tgt, dt.strftime('%Y%m%d')))\n",
    "            else:\n",
    "                spectra_name.append('MISC [%s] %s' % (tgt, dt.strftime('%Y%m%d')))"
   ]
  },
  {
   "cell_type": "markdown",
   "metadata": {},
   "source": [
    "# Define an envi header dict"
   ]
  },
  {
   "cell_type": "code",
   "execution_count": 80,
   "metadata": {
    "collapsed": false
   },
   "outputs": [],
   "source": [
    "def generate_library_header(spectra, wavelength, target, date, name):\n",
    "    \n",
    "    # Get dimensions of spectra array [0]: wavebands, [1]: spectra\n",
    "    dims = spectra.shape\n",
    "    \n",
    "    dict = {}\n",
    "    dict[\"description\"] = \"NSIDC Sea Ice Spectral Library\\n Built by Andrew P. Barrett <apbarret@nsidc.org>\\n [2016-11-21]\"\n",
    "    dict[\"samples\"] = dims[1]\n",
    "    dict[\"lines\"] = dims[0]\n",
    "    dict[\"bands\"] = 1\n",
    "    dict[\"header offset\"] = 0\n",
    "    dict[\"file type\"] = \"ENVI Spectral Library\"\n",
    "    dict[\"data type\"] = 4\n",
    "    dict[\"interleave\"] = \"bsq\"\n",
    "    dict[\"sensor type\"] = \"Spectron Engineering SE-590\"          \n",
    "    dict[\"byte order\"] = 0\n",
    "    dict[\"z plot titles\"] = \"Wavelength [nm], spectral albedo\"\n",
    "    dict[\"wavelength units\"] = \"Nanometers\"\n",
    "    dict[\"band names\"] = \"NSIDC Sea Ice Spectral Library\"\n",
    "    dict[\"reflectance scale factor\"] = 100.\n",
    "    dict[\"original names\"] = target\n",
    "    dict[\"spectra dates\"] = date\n",
    "    dict[\"spectra names\"] = name\n",
    "    dict[\"wavelength\"] = wavelength\n",
    "    \n",
    "    return dict"
   ]
  },
  {
   "cell_type": "markdown",
   "metadata": {},
   "source": [
    "Create library files"
   ]
  },
  {
   "cell_type": "code",
   "execution_count": 104,
   "metadata": {
    "collapsed": false
   },
   "outputs": [],
   "source": [
    "def make_spectral_library(spectra, wavelength, target, date, name, filo, idx):\n",
    "    \n",
    "    tgt = [target[i] for i in idx]\n",
    "    dt = [date[i] for i in idx]\n",
    "    nm = [name[i] for i in idx]\n",
    "    \n",
    "    spctr = spectra[:,idx].T\n",
    "    \n",
    "    from spectral.io.envi import gen_params\n",
    "    header = generate_library_header(spctr, wavelength, tgt, dt, nm)\n",
    "    params = gen_params(header)\n",
    "\n",
    "    # Write data to spectral library class\n",
    "    from spectral.io.envi import SpectralLibrary\n",
    "    specLib = SpectralLibrary(spctr, header, params)\n",
    "\n",
    "    specLib.save(filo)"
   ]
  },
  {
   "cell_type": "code",
   "execution_count": 106,
   "metadata": {
    "collapsed": false
   },
   "outputs": [],
   "source": [
    "filo = \"C:/Users/apbarret/Documents/data/Sheba2/Sheba.SpectralLibrary.ice\"\n",
    "make_spectral_library(spectra, wavelength, target, date, spectra_name, filo, idxice)\n",
    "\n",
    "filo = \"C:/Users/apbarret/Documents/data/Sheba2/Sheba.SpectralLibrary.pond\"\n",
    "make_spectral_library(spectra, wavelength, target, date, spectra_name, filo, idxpnd)\n",
    "\n",
    "filo = \"C:/Users/apbarret/Documents/data/Sheba2/Sheba.SpectralLibrary.lead\"\n",
    "make_spectral_library(spectra, wavelength, target, date, spectra_name, filo, idxled)\n",
    "\n"
   ]
  },
  {
   "cell_type": "code",
   "execution_count": 241,
   "metadata": {
    "collapsed": false
   },
   "outputs": [
    {
     "name": "stdout",
     "output_type": "stream",
     "text": [
      "57\n"
     ]
    }
   ],
   "source": [
    "fili = r\"C:/Users/apbarret/Documents/data/Sheba2/Sheba.SpectralLibrary.pond.hdr\"\n",
    "pond = envi.open(fili)\n",
    "nspectra = len(pond.names)\n",
    "print nspectra"
   ]
  },
  {
   "cell_type": "code",
   "execution_count": null,
   "metadata": {
    "collapsed": false
   },
   "outputs": [],
   "source": []
  },
  {
   "cell_type": "code",
   "execution_count": null,
   "metadata": {
    "collapsed": true
   },
   "outputs": [],
   "source": []
  }
 ],
 "metadata": {
  "kernelspec": {
   "display_name": "Python 2",
   "language": "python",
   "name": "python2"
  },
  "language_info": {
   "codemirror_mode": {
    "name": "ipython",
    "version": 2
   },
   "file_extension": ".py",
   "mimetype": "text/x-python",
   "name": "python",
   "nbconvert_exporter": "python",
   "pygments_lexer": "ipython2",
   "version": "2.7.11"
  }
 },
 "nbformat": 4,
 "nbformat_minor": 0
}
