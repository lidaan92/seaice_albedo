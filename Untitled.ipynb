{
 "cells": [
  {
   "cell_type": "code",
   "execution_count": 1,
   "metadata": {
    "collapsed": false
   },
   "outputs": [
    {
     "name": "stdout",
     "output_type": "stream",
     "text": [
      "Populating the interactive namespace from numpy and matplotlib\n"
     ]
    }
   ],
   "source": [
    "%pylab notebook"
   ]
  },
  {
   "cell_type": "code",
   "execution_count": 2,
   "metadata": {
    "collapsed": false
   },
   "outputs": [],
   "source": [
    "import numpy as np\n",
    "import pandas as pd\n",
    "import datetime\n",
    "import seaice_albedo_utilities as util"
   ]
  },
  {
   "cell_type": "code",
   "execution_count": 3,
   "metadata": {
    "collapsed": false
   },
   "outputs": [
    {
     "name": "stderr",
     "output_type": "stream",
     "text": [
      "C:\\Users\\apbarret\\Anaconda\\lib\\site-packages\\pandas\\core\\indexing.py:115: SettingWithCopyWarning: \n",
      "A value is trying to be set on a copy of a slice from a DataFrame\n",
      "\n",
      "See the the caveats in the documentation: http://pandas.pydata.org/pandas-docs/stable/indexing.html#indexing-view-versus-copy\n",
      "  self._setitem_with_indexer(indexer, value)\n"
     ]
    }
   ],
   "source": [
    "samples, spectra = util.load_sheba_spectra()"
   ]
  },
  {
   "cell_type": "code",
   "execution_count": 6,
   "metadata": {
    "collapsed": false
   },
   "outputs": [
    {
     "data": {
      "text/html": [
       "<div>\n",
       "<table border=\"1\" class=\"dataframe\">\n",
       "  <thead>\n",
       "    <tr style=\"text-align: right;\">\n",
       "      <th></th>\n",
       "      <th>0</th>\n",
       "      <th>1</th>\n",
       "      <th>2</th>\n",
       "      <th>3</th>\n",
       "      <th>4</th>\n",
       "      <th>5</th>\n",
       "      <th>6</th>\n",
       "      <th>7</th>\n",
       "      <th>8</th>\n",
       "      <th>9</th>\n",
       "      <th>...</th>\n",
       "      <th>80</th>\n",
       "      <th>81</th>\n",
       "      <th>82</th>\n",
       "      <th>83</th>\n",
       "      <th>84</th>\n",
       "      <th>85</th>\n",
       "      <th>86</th>\n",
       "      <th>87</th>\n",
       "      <th>88</th>\n",
       "      <th>89</th>\n",
       "    </tr>\n",
       "  </thead>\n",
       "  <tbody>\n",
       "    <tr>\n",
       "      <th>368.4</th>\n",
       "      <td>0.767</td>\n",
       "      <td>0.213</td>\n",
       "      <td>0.755</td>\n",
       "      <td>0.194</td>\n",
       "      <td>0.754</td>\n",
       "      <td>0.172</td>\n",
       "      <td>0.409</td>\n",
       "      <td>0.260</td>\n",
       "      <td>0.200</td>\n",
       "      <td>0.767</td>\n",
       "      <td>...</td>\n",
       "      <td>0.796</td>\n",
       "      <td>0.927</td>\n",
       "      <td>0.961</td>\n",
       "      <td>0.992</td>\n",
       "      <td>0.826</td>\n",
       "      <td>0.891</td>\n",
       "      <td>0.908</td>\n",
       "      <td>0.947</td>\n",
       "      <td>0.908</td>\n",
       "      <td>0.955</td>\n",
       "    </tr>\n",
       "    <tr>\n",
       "      <th>371.0</th>\n",
       "      <td>0.747</td>\n",
       "      <td>0.215</td>\n",
       "      <td>0.730</td>\n",
       "      <td>0.194</td>\n",
       "      <td>0.728</td>\n",
       "      <td>0.168</td>\n",
       "      <td>0.423</td>\n",
       "      <td>0.265</td>\n",
       "      <td>0.182</td>\n",
       "      <td>0.750</td>\n",
       "      <td>...</td>\n",
       "      <td>0.824</td>\n",
       "      <td>0.917</td>\n",
       "      <td>0.957</td>\n",
       "      <td>0.995</td>\n",
       "      <td>0.815</td>\n",
       "      <td>0.904</td>\n",
       "      <td>0.893</td>\n",
       "      <td>0.959</td>\n",
       "      <td>0.902</td>\n",
       "      <td>0.972</td>\n",
       "    </tr>\n",
       "    <tr>\n",
       "      <th>373.6</th>\n",
       "      <td>0.739</td>\n",
       "      <td>0.215</td>\n",
       "      <td>0.743</td>\n",
       "      <td>0.177</td>\n",
       "      <td>0.765</td>\n",
       "      <td>0.185</td>\n",
       "      <td>0.428</td>\n",
       "      <td>0.251</td>\n",
       "      <td>0.207</td>\n",
       "      <td>0.765</td>\n",
       "      <td>...</td>\n",
       "      <td>0.180</td>\n",
       "      <td>0.215</td>\n",
       "      <td>0.251</td>\n",
       "      <td>0.275</td>\n",
       "      <td>0.160</td>\n",
       "      <td>0.201</td>\n",
       "      <td>0.202</td>\n",
       "      <td>0.244</td>\n",
       "      <td>0.202</td>\n",
       "      <td>0.249</td>\n",
       "    </tr>\n",
       "    <tr>\n",
       "      <th>376.2</th>\n",
       "      <td>0.741</td>\n",
       "      <td>0.218</td>\n",
       "      <td>0.728</td>\n",
       "      <td>0.179</td>\n",
       "      <td>0.782</td>\n",
       "      <td>0.202</td>\n",
       "      <td>0.426</td>\n",
       "      <td>0.276</td>\n",
       "      <td>0.209</td>\n",
       "      <td>0.798</td>\n",
       "      <td>...</td>\n",
       "      <td>0.183</td>\n",
       "      <td>0.213</td>\n",
       "      <td>0.247</td>\n",
       "      <td>0.280</td>\n",
       "      <td>0.156</td>\n",
       "      <td>0.207</td>\n",
       "      <td>0.194</td>\n",
       "      <td>0.244</td>\n",
       "      <td>0.195</td>\n",
       "      <td>0.248</td>\n",
       "    </tr>\n",
       "    <tr>\n",
       "      <th>378.8</th>\n",
       "      <td>0.749</td>\n",
       "      <td>0.220</td>\n",
       "      <td>0.717</td>\n",
       "      <td>0.213</td>\n",
       "      <td>0.739</td>\n",
       "      <td>0.188</td>\n",
       "      <td>0.423</td>\n",
       "      <td>0.270</td>\n",
       "      <td>0.205</td>\n",
       "      <td>0.754</td>\n",
       "      <td>...</td>\n",
       "      <td>0.188</td>\n",
       "      <td>0.215</td>\n",
       "      <td>0.246</td>\n",
       "      <td>0.263</td>\n",
       "      <td>0.160</td>\n",
       "      <td>0.202</td>\n",
       "      <td>0.193</td>\n",
       "      <td>0.239</td>\n",
       "      <td>0.195</td>\n",
       "      <td>0.248</td>\n",
       "    </tr>\n",
       "  </tbody>\n",
       "</table>\n",
       "<p>5 rows × 90 columns</p>\n",
       "</div>"
      ],
      "text/plain": [
       "          0      1      2      3      4      5      6      7      8      9   \\\n",
       "368.4  0.767  0.213  0.755  0.194  0.754  0.172  0.409  0.260  0.200  0.767   \n",
       "371.0  0.747  0.215  0.730  0.194  0.728  0.168  0.423  0.265  0.182  0.750   \n",
       "373.6  0.739  0.215  0.743  0.177  0.765  0.185  0.428  0.251  0.207  0.765   \n",
       "376.2  0.741  0.218  0.728  0.179  0.782  0.202  0.426  0.276  0.209  0.798   \n",
       "378.8  0.749  0.220  0.717  0.213  0.739  0.188  0.423  0.270  0.205  0.754   \n",
       "\n",
       "       ...       80     81     82     83     84     85     86     87     88  \\\n",
       "368.4  ...    0.796  0.927  0.961  0.992  0.826  0.891  0.908  0.947  0.908   \n",
       "371.0  ...    0.824  0.917  0.957  0.995  0.815  0.904  0.893  0.959  0.902   \n",
       "373.6  ...    0.180  0.215  0.251  0.275  0.160  0.201  0.202  0.244  0.202   \n",
       "376.2  ...    0.183  0.213  0.247  0.280  0.156  0.207  0.194  0.244  0.195   \n",
       "378.8  ...    0.188  0.215  0.246  0.263  0.160  0.202  0.193  0.239  0.195   \n",
       "\n",
       "          89  \n",
       "368.4  0.955  \n",
       "371.0  0.972  \n",
       "373.6  0.249  \n",
       "376.2  0.248  \n",
       "378.8  0.248  \n",
       "\n",
       "[5 rows x 90 columns]"
      ]
     },
     "execution_count": 6,
     "metadata": {},
     "output_type": "execute_result"
    }
   ],
   "source": [
    "spectra.head()"
   ]
  },
  {
   "cell_type": "code",
   "execution_count": null,
   "metadata": {
    "collapsed": true
   },
   "outputs": [],
   "source": []
  }
 ],
 "metadata": {
  "kernelspec": {
   "display_name": "Python 2",
   "language": "python",
   "name": "python2"
  },
  "language_info": {
   "codemirror_mode": {
    "name": "ipython",
    "version": 2
   },
   "file_extension": ".py",
   "mimetype": "text/x-python",
   "name": "python",
   "nbconvert_exporter": "python",
   "pygments_lexer": "ipython2",
   "version": "2.7.11"
  }
 },
 "nbformat": 4,
 "nbformat_minor": 0
}
