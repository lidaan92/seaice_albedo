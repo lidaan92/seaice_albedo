{
 "cells": [
  {
   "cell_type": "code",
   "execution_count": 22,
   "metadata": {
    "collapsed": false
   },
   "outputs": [
    {
     "name": "stdout",
     "output_type": "stream",
     "text": [
      "Populating the interactive namespace from numpy and matplotlib\n"
     ]
    },
    {
     "name": "stderr",
     "output_type": "stream",
     "text": [
      "WARNING: pylab import has clobbered these variables: ['spectral']\n",
      "`%matplotlib` prevents importing * from pylab and numpy\n"
     ]
    }
   ],
   "source": [
    "%pylab inline"
   ]
  },
  {
   "cell_type": "code",
   "execution_count": 33,
   "metadata": {
    "collapsed": true
   },
   "outputs": [],
   "source": [
    "import spectral.io.envi as envi\n",
    "import matplotlib.pyplot as plt"
   ]
  },
  {
   "cell_type": "code",
   "execution_count": 34,
   "metadata": {
    "collapsed": false,
    "scrolled": true
   },
   "outputs": [
    {
     "name": "stdout",
     "output_type": "stream",
     "text": [
      "Help on instance of SpectralLibrary in module spectral.io.envi:\n",
      "\n",
      "class SpectralLibrary\n",
      " |  The envi.SpectralLibrary class holds data contained in an ENVI-formatted\n",
      " |  spectral library file (.sli files), which stores data as specified by a\n",
      " |  corresponding .hdr header file.  The primary members of an\n",
      " |  Envi.SpectralLibrary object are:\n",
      " |  \n",
      " |      `spectra` (:class:`numpy.ndarray`):\n",
      " |  \n",
      " |          A subscriptable array of all spectra in the library. `spectra` will\n",
      " |          have shape `CxB`, where `C` is the number of spectra in the library\n",
      " |          and `B` is the number of bands for each spectrum.\n",
      " |  \n",
      " |      `names` (list of str):\n",
      " |  \n",
      " |          A length-`C` list of names corresponding to the spectra.\n",
      " |  \n",
      " |      `bands` (:class:`spectral.BandInfo`):\n",
      " |  \n",
      " |          Spectral bands associated with the library spectra.\n",
      " |  \n",
      " |  Methods defined here:\n",
      " |  \n",
      " |  __init__(self, data, header, params)\n",
      " |  \n",
      " |  save(self, fileBaseName, description=None)\n",
      " |      Saves the spectral library to a library file.\n",
      " |      \n",
      " |      Arguments:\n",
      " |      \n",
      " |          `fileBaseName` (str):\n",
      " |      \n",
      " |              Name of the file (without extension) to save.\n",
      " |      \n",
      " |          `description` (str):\n",
      " |      \n",
      " |              Optional text description of the library.\n",
      " |      \n",
      " |      This method creates two files: `fileBaseName`.hdr and\n",
      " |      `fileBaseName`.sli.\n",
      "\n"
     ]
    }
   ],
   "source": [
    "fili = \"C:/Users/apbarret/Documents/data/Spectra/Resolute/archive/res_08061991_pond_spec.hdr\"\n",
    "spectra = envi.open(fili)\n",
    "help(spectra)"
   ]
  },
  {
   "cell_type": "code",
   "execution_count": 51,
   "metadata": {
    "collapsed": false
   },
   "outputs": [
    {
     "ename": "NameError",
     "evalue": "name 'SpectralLibrary' is not defined",
     "output_type": "error",
     "traceback": [
      "\u001b[1;31m---------------------------------------------------------------------------\u001b[0m",
      "\u001b[1;31mNameError\u001b[0m                                 Traceback (most recent call last)",
      "\u001b[1;32m<ipython-input-51-258c02ab4819>\u001b[0m in \u001b[0;36m<module>\u001b[1;34m()\u001b[0m\n\u001b[1;32m----> 1\u001b[1;33m \u001b[1;32mclass\u001b[0m \u001b[0mmySpectralLibrary\u001b[0m\u001b[1;33m(\u001b[0m\u001b[0mSpectralLibrary\u001b[0m\u001b[1;33m)\u001b[0m\u001b[1;33m:\u001b[0m\u001b[1;33m\u001b[0m\u001b[0m\n\u001b[0m\u001b[0;32m      2\u001b[0m \u001b[1;33m\u001b[0m\u001b[0m\n\u001b[0;32m      3\u001b[0m     \u001b[1;32mdef\u001b[0m \u001b[0m__init__\u001b[0m\u001b[1;33m(\u001b[0m\u001b[0mself\u001b[0m\u001b[1;33m)\u001b[0m\u001b[1;33m:\u001b[0m\u001b[1;33m\u001b[0m\u001b[0m\n\u001b[0;32m      4\u001b[0m         \u001b[0mSpectralLibrary\u001b[0m\u001b[1;33m.\u001b[0m\u001b[0m__init__\u001b[0m\u001b[1;33m(\u001b[0m\u001b[0mself\u001b[0m\u001b[1;33m,\u001b[0m\u001b[0mspectra\u001b[0m\u001b[1;33m,\u001b[0m\u001b[0mnames\u001b[0m\u001b[1;33m,\u001b[0m\u001b[0mbands\u001b[0m\u001b[1;33m)\u001b[0m\u001b[1;33m\u001b[0m\u001b[0m\n\u001b[0;32m      5\u001b[0m \u001b[1;33m\u001b[0m\u001b[0m\n",
      "\u001b[1;31mNameError\u001b[0m: name 'SpectralLibrary' is not defined"
     ]
    }
   ],
   "source": [
    "class mySpectralLibrary(SpectralLibrary):\n",
    "    \n",
    "    def __init__(self):\n",
    "        SpectralLibrary.__init__(self,spectra,names,bands)\n",
    "        \n",
    "    def plot():\n",
    "        x = numpy.array(spectra.bands.centers)\n",
    "        y = spectra.spectra.reshape(-1)\n",
    "        plt.plot(x, y)\n"
   ]
  },
  {
   "cell_type": "code",
   "execution_count": 31,
   "metadata": {
    "collapsed": false
   },
   "outputs": [
    {
     "ename": "AttributeError",
     "evalue": "'module' object has no attribute 'read_envi_header'",
     "output_type": "error",
     "traceback": [
      "\u001b[1;31m---------------------------------------------------------------------------\u001b[0m",
      "\u001b[1;31mAttributeError\u001b[0m                            Traceback (most recent call last)",
      "\u001b[1;32m<ipython-input-31-044eeba3f624>\u001b[0m in \u001b[0;36m<module>\u001b[1;34m()\u001b[0m\n\u001b[1;32m----> 1\u001b[1;33m \u001b[0mh\u001b[0m \u001b[1;33m=\u001b[0m \u001b[0mspectral\u001b[0m\u001b[1;33m.\u001b[0m\u001b[0mread_envi_header\u001b[0m\u001b[1;33m(\u001b[0m\u001b[0mfili\u001b[0m\u001b[1;33m)\u001b[0m\u001b[1;33m\u001b[0m\u001b[0m\n\u001b[0m",
      "\u001b[1;31mAttributeError\u001b[0m: 'module' object has no attribute 'read_envi_header'"
     ]
    }
   ],
   "source": []
  },
  {
   "cell_type": "code",
   "execution_count": null,
   "metadata": {
    "collapsed": true
   },
   "outputs": [],
   "source": []
  }
 ],
 "metadata": {
  "kernelspec": {
   "display_name": "Python 2",
   "language": "python",
   "name": "python2"
  },
  "language_info": {
   "codemirror_mode": {
    "name": "ipython",
    "version": 2
   },
   "file_extension": ".py",
   "mimetype": "text/x-python",
   "name": "python",
   "nbconvert_exporter": "python",
   "pygments_lexer": "ipython2",
   "version": "2.7.11"
  }
 },
 "nbformat": 4,
 "nbformat_minor": 0
}
