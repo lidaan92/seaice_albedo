{
 "cells": [
  {
   "cell_type": "code",
   "execution_count": 3,
   "metadata": {
    "collapsed": false
   },
   "outputs": [
    {
     "name": "stdout",
     "output_type": "stream",
     "text": [
      "Populating the interactive namespace from numpy and matplotlib\n"
     ]
    }
   ],
   "source": [
    "%pylab inline"
   ]
  },
  {
   "cell_type": "code",
   "execution_count": 34,
   "metadata": {
    "collapsed": false
   },
   "outputs": [],
   "source": [
    "import spectral.io.envi as envi\n",
    "import matplotlib.pyplot as plt\n",
    "import os, sys, glob"
   ]
  },
  {
   "cell_type": "markdown",
   "metadata": {},
   "source": [
    "Get a list of header files"
   ]
  },
  {
   "cell_type": "code",
   "execution_count": 36,
   "metadata": {
    "collapsed": false
   },
   "outputs": [
    {
     "name": "stdout",
     "output_type": "stream",
     "text": [
      "/disks/arctic5_scratch/abarrett/seaice_albedo/Spectra/archive/bar_20020402_snow_spec.hdr\n",
      "/disks/arctic5_scratch/abarrett/seaice_albedo/Spectra/archive/bar_20040613_melt_spec.hdr\n",
      "/disks/arctic5_scratch/abarrett/seaice_albedo/Spectra/archive/bar_20040615_bare_spec.hdr\n",
      "/disks/arctic5_scratch/abarrett/seaice_albedo/Spectra/archive/bar_20040615_lead_spec.hdr\n",
      "/disks/arctic5_scratch/abarrett/seaice_albedo/Spectra/archive/bar_20040615_pond1_spec.hdr\n",
      "/disks/arctic5_scratch/abarrett/seaice_albedo/Spectra/archive/bar_20040615_pond2_spec.hdr\n",
      "/disks/arctic5_scratch/abarrett/seaice_albedo/Spectra/archive/bar_20050521_bare_spec.hdr\n",
      "/disks/arctic5_scratch/abarrett/seaice_albedo/Spectra/archive/bar_20050604_bare_spec.hdr\n",
      "/disks/arctic5_scratch/abarrett/seaice_albedo/Spectra/archive/bar_20050604_snow_spec.hdr\n",
      "/disks/arctic5_scratch/abarrett/seaice_albedo/Spectra/archive/bar_20050605_snow_spec.hdr\n",
      "/disks/arctic5_scratch/abarrett/seaice_albedo/Spectra/archive/bar_20050612_pond1_spec.hdr\n",
      "/disks/arctic5_scratch/abarrett/seaice_albedo/Spectra/archive/bar_20050612_pond2_spec.hdr\n",
      "/disks/arctic5_scratch/abarrett/seaice_albedo/Spectra/archive/bar_20050613_melt_spec.hdr\n",
      "/disks/arctic5_scratch/abarrett/seaice_albedo/Spectra/archive/bar_20050613_pond_spec.hdr\n",
      "/disks/arctic5_scratch/abarrett/seaice_albedo/Spectra/archive/bar_20050619_melt_spec.hdr\n",
      "/disks/arctic5_scratch/abarrett/seaice_albedo/Spectra/archive/bar_20050619_pond_spec.hdr\n",
      "/disks/arctic5_scratch/abarrett/seaice_albedo/Spectra/archive/bar_20050620_melt_spec.hdr\n",
      "/disks/arctic5_scratch/abarrett/seaice_albedo/Spectra/archive/bar_20050620_pond_spec.hdr\n",
      "/disks/arctic5_scratch/abarrett/seaice_albedo/Spectra/archive/bar_20050621_melt_spec.hdr\n",
      "/disks/arctic5_scratch/abarrett/seaice_albedo/Spectra/archive/bar_20050621_pond_spec.hdr\n",
      "/disks/arctic5_scratch/abarrett/seaice_albedo/Spectra/archive/bar_20050622_melt_spec.hdr\n",
      "/disks/arctic5_scratch/abarrett/seaice_albedo/Spectra/archive/bar_20050622_pond_spec.hdr\n",
      "/disks/arctic5_scratch/abarrett/seaice_albedo/Spectra/archive/bar_20050623_melt_spec.hdr\n",
      "/disks/arctic5_scratch/abarrett/seaice_albedo/Spectra/archive/res_08061991_pond_spec.hdr\n",
      "/disks/arctic5_scratch/abarrett/seaice_albedo/Spectra/archive/res_19051991_glaz_spec.hdr\n",
      "/disks/arctic5_scratch/abarrett/seaice_albedo/Spectra/archive/res_27051991_bare_spec.hdr\n",
      "/disks/arctic5_scratch/abarrett/seaice_albedo/Spectra/archive/res_27051991_snow_spec.hdr\n",
      "/disks/arctic5_scratch/abarrett/seaice_albedo/Spectra/archive/res_28051991_blue_spec.hdr\n",
      "/disks/arctic5_scratch/abarrett/seaice_albedo/Spectra/archive/she_19980403_bice_spec.hdr\n",
      "/disks/arctic5_scratch/abarrett/seaice_albedo/Spectra/archive/she_19980403_fraz_spec.hdr\n",
      "/disks/arctic5_scratch/abarrett/seaice_albedo/Spectra/archive/she_19980403_snow1_spec.hdr\n",
      "/disks/arctic5_scratch/abarrett/seaice_albedo/Spectra/archive/she_19980403_snow2_spec.hdr\n",
      "/disks/arctic5_scratch/abarrett/seaice_albedo/Spectra/archive/she_19980410_bare_spec.hdr\n",
      "/disks/arctic5_scratch/abarrett/seaice_albedo/Spectra/archive/she_19980410_lead_spec.hdr\n",
      "/disks/arctic5_scratch/abarrett/seaice_albedo/Spectra/archive/she_19980410_snow1_spec.hdr\n",
      "/disks/arctic5_scratch/abarrett/seaice_albedo/Spectra/archive/she_19980410_snow2_spec.hdr\n",
      "/disks/arctic5_scratch/abarrett/seaice_albedo/Spectra/archive/she_19980410_snow3_spec.hdr\n",
      "/disks/arctic5_scratch/abarrett/seaice_albedo/Spectra/archive/she_19980625_pond_spec.hdr\n",
      "/disks/arctic5_scratch/abarrett/seaice_albedo/Spectra/archive/she_19980703_bare_spec.hdr\n",
      "/disks/arctic5_scratch/abarrett/seaice_albedo/Spectra/archive/she_19980715_dpon_spec.hdr\n",
      "/disks/arctic5_scratch/abarrett/seaice_albedo/Spectra/archive/she_19980715_lpon_spec.hdr\n",
      "/disks/arctic5_scratch/abarrett/seaice_albedo/Spectra/archive/she_19980729_fraz_spec.hdr\n",
      "/disks/arctic5_scratch/abarrett/seaice_albedo/Spectra/archive/she_19980824_bras_spec.hdr\n",
      "/disks/arctic5_scratch/abarrett/seaice_albedo/Spectra/archive/she_19980824_lead_spec.hdr\n"
     ]
    }
   ],
   "source": [
    "diri = \"/disks/arctic5_scratch/abarrett/seaice_albedo/Spectra/archive\"\n",
    "fileList = glob.glob(diri+\"/\"+\"*_????????_*_spec.hdr\")\n",
    "for fn in fileList:\n",
    "    print fn"
   ]
  },
  {
   "cell_type": "code",
   "execution_count": 40,
   "metadata": {
    "collapsed": false,
    "scrolled": true
   },
   "outputs": [
    {
     "data": {
      "text/plain": [
       "(6, 204)"
      ]
     },
     "execution_count": 40,
     "metadata": {},
     "output_type": "execute_result"
    }
   ],
   "source": [
    "fili = \"/disks/arctic5_scratch/abarrett/seaice_albedo/Spectra/archive/she_19980824_lead_spec.hdr\"\n",
    "spectra = envi.open(fili)\n",
    "spectra.spectra.shape\n",
    "#md = envi.read_envi_header(fili)\n",
    "#md"
   ]
  },
  {
   "cell_type": "code",
   "execution_count": 21,
   "metadata": {
    "collapsed": false
   },
   "outputs": [],
   "source": [
    "class mySpectralLibrary(envi.SpectralLibrary):\n",
    "    \n",
    "    def __init__(self,spectra,names,bands):\n",
    "        envi.SpectralLibrary.__init__(self,spectra,names,bands)\n",
    "        \n",
    "    def plot():\n",
    "        x = self.bands.centers\n",
    "        y = self.spectra.reshape(-1)\n",
    "        plt.plot(x, y)\n"
   ]
  },
  {
   "cell_type": "code",
   "execution_count": 23,
   "metadata": {
    "collapsed": false
   },
   "outputs": [
    {
     "name": "stdout",
     "output_type": "stream",
     "text": [
      "Help on instance of BandInfo in module spectral.spectral:\n",
      "\n",
      "class BandInfo\n",
      " |  A BandInfo object characterizes the spectral bands associated with an\n",
      " |  image. All BandInfo member variables are optional.  For *N* bands, all\n",
      " |  members of type <list> will have length *N* and contain float values.\n",
      " |  \n",
      " |  =================   =====================================   =======\n",
      " |      Member                  Description                     Default\n",
      " |  =================   =====================================   =======\n",
      " |  centers             List of band centers                    None\n",
      " |  bandwidths          List of band FWHM values                None\n",
      " |  centers_stdevs      List of std devs of band centers        None\n",
      " |  bandwidth_stdevs    List of std devs of bands FWHMs         None\n",
      " |  band_quantity       Image data type (e.g., \"reflectance\")   \"\"\n",
      " |  band_unit           Band unit (e.g., \"nanometer\")           \"\"\n",
      " |  =================   =====================================   =======\n",
      " |  \n",
      " |  Methods defined here:\n",
      " |  \n",
      " |  __init__(self)\n",
      "\n"
     ]
    }
   ],
   "source": [
    "#myspectra = mySpectralLibrary(spectra)\n",
    "help (spectra.bands)"
   ]
  },
  {
   "cell_type": "code",
   "execution_count": 49,
   "metadata": {
    "collapsed": false
   },
   "outputs": [
    {
     "name": "stdout",
     "output_type": "stream",
     "text": [
      "(204,)\n"
     ]
    }
   ],
   "source": [
    "print spectra.spectra[0,:].shape"
   ]
  },
  {
   "cell_type": "code",
   "execution_count": null,
   "metadata": {
    "collapsed": true
   },
   "outputs": [],
   "source": []
  }
 ],
 "metadata": {
  "kernelspec": {
   "display_name": "Python 2",
   "language": "python",
   "name": "python2"
  },
  "language_info": {
   "codemirror_mode": {
    "name": "ipython",
    "version": 2
   },
   "file_extension": ".py",
   "mimetype": "text/x-python",
   "name": "python",
   "nbconvert_exporter": "python",
   "pygments_lexer": "ipython2",
   "version": "2.7.11"
  }
 },
 "nbformat": 4,
 "nbformat_minor": 0
}
